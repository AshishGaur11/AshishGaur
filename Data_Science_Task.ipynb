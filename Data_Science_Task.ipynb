{
  "nbformat": 4,
  "nbformat_minor": 0,
  "metadata": {
    "colab": {
      "name": "Data_Science_Task.ipynb",
      "provenance": [],
      "authorship_tag": "ABX9TyNqMcToNzPz7FKE12c2qihV",
      "include_colab_link": true
    },
    "kernelspec": {
      "name": "python3",
      "display_name": "Python 3"
    },
    "language_info": {
      "name": "python"
    },
    "accelerator": "GPU"
  },
  "cells": [
    {
      "cell_type": "markdown",
      "metadata": {
        "id": "view-in-github",
        "colab_type": "text"
      },
      "source": [
        "<a href=\"https://colab.research.google.com/github/AshishGaur11/AshishGaur/blob/main/Data_Science_Task.ipynb\" target=\"_parent\"><img src=\"https://colab.research.google.com/assets/colab-badge.svg\" alt=\"Open In Colab\"/></a>"
      ]
    },
    {
      "cell_type": "markdown",
      "metadata": {
        "id": "M-xcvZgPBRfM"
      },
      "source": [
        " *Task 1 web Scraper *"
      ]
    },
    {
      "cell_type": "code",
      "metadata": {
        "id": "B5Iwg_8KAh0T"
      },
      "source": [
        "import requests, lxml, urllib.parse\n",
        "from bs4 import BeautifulSoup"
      ],
      "execution_count": 1,
      "outputs": []
    },
    {
      "cell_type": "code",
      "metadata": {
        "id": "90-osHY3AnDF"
      },
      "source": [
        "headers = {\n",
        "    \"User-Agent\":\n",
        "    \"Mozilla/5.0 (Windows NT 10.0; Win64; x64) AppleWebKit/537.36 (KHTML, like Gecko) Chrome/72.0.3538.102 Safari/537.36 Edge/18.19582\"\n",
        "}\n",
        "\n",
        "params = {'q': 'TV sony'}\n"
      ],
      "execution_count": 46,
      "outputs": []
    },
    {
      "cell_type": "code",
      "metadata": {
        "id": "v5dEhZSJApf4"
      },
      "source": [
        "html = requests.get(f'https://www.google.com/search?q=',\n",
        "                    headers=headers,\n",
        "                    params=params).text"
      ],
      "execution_count": 47,
      "outputs": []
    },
    {
      "cell_type": "code",
      "metadata": {
        "colab": {
          "base_uri": "https://localhost:8080/"
        },
        "id": "M2e340EjA0Ul",
        "outputId": "0342d74e-7958-4e67-c474-2ebece6cf1b3"
      },
      "source": [
        "soup = BeautifulSoup(html, 'lxml')\n",
        "\n",
        "links = soup.find_all('div', class_='Gor6zc')\n",
        "\n",
        "print(links)"
      ],
      "execution_count": 48,
      "outputs": [
        {
          "output_type": "stream",
          "name": "stdout",
          "text": [
            "[<div class=\"Gor6zc\" style=\"display:inline-block;text-align:center;height:223px;width:162px\"><span class=\"h1vhpc\"></span><img alt='Image of Sony - 43\" Class X80J Series LED 4K UHD Smart Google TV' data-deferred=\"1\" height=\"106\" id=\"platop0\" src=\"data:image/gif;base64,R0lGODlhAQABAIAAAP///////yH5BAEKAAEALAAAAAABAAEAAAICTAEAOw==\" style=\"border:none;margin:0;vertical-align:middle;border-radius:0%\" width=\"162\"/></div>, <div class=\"Gor6zc\" style=\"display:inline-block;text-align:center;height:256px;width:186px\"><span class=\"h1vhpc\"></span><img alt='Sony - 43\" Class X80J Series LED 4K UHD Smart Google TV' class=\"Deyomb\" height=\"122\" id=\"plahover0\" style=\"border:none;margin:0;vertical-align:middle\" width=\"186\"/><img alt='Sony - 43\" Class X80J Series LED 4K UHD Smart Google TV' data-src=\"https://encrypted-tbn2.gstatic.com/shopping?q=tbn:ANd9GcQQ1o2ZMMTcTo7ob3HaKxxjObBzFM7r7j9jZ1ngkWULGK8vr3kaUgJVbzeQYYiJUbKxw7Ki6xAv&amp;usqp=CAc\" height=\"122\" id=\"plahover0_a\" style=\"display:none;border:none;margin:0;vertical-align:middle\" width=\"186\"/></div>, <div class=\"Gor6zc JtzP6 oYsXbb invisible\" style=\"display:inline-block;text-align:center;height:204px;width:152px\"><span class=\"h1vhpc\"></span><img alt='Sony - 43\" Class X80J Series LED 4K UHD Smart Google TV' height=\"152\" id=\"plahover0alternative0\" style=\"border:none;margin:0;vertical-align:middle\" width=\"152\"/><img alt='Sony - 43\" Class X80J Series LED 4K UHD Smart Google TV' data-src=\"https://encrypted-tbn1.gstatic.com/shopping?q=tbn:ANd9GcR8DL-TxCqLAN4SXICkoaFcRf0n5v-6nqBE1K5v6UzcINZnG7GK1cl7B1T8LaPnvCH8AfkZJ_xb&amp;usqp=CAc\" height=\"152\" id=\"plahover0alternative0_a\" style=\"display:none;border:none;margin:0;vertical-align:middle\" width=\"152\"/></div>, <div class=\"Gor6zc JtzP6 oYsXbb invisible\" style=\"display:inline-block;text-align:center;height:204px;width:152px\"><span class=\"h1vhpc\"></span><img alt='Sony - 43\" Class X80J Series LED 4K UHD Smart Google TV' height=\"152\" id=\"plahover0alternative1\" style=\"border:none;margin:0;vertical-align:middle\" width=\"152\"/><img alt='Sony - 43\" Class X80J Series LED 4K UHD Smart Google TV' data-src=\"https://encrypted-tbn2.gstatic.com/shopping?q=tbn:ANd9GcSY3PVmZp4cRLi-dPwIr9hj9lbI55Qn-LFNBo2nO9K7C4596kaK8MoAiuuCU4H0PAG1w9uDyY4U&amp;usqp=CAc\" height=\"152\" id=\"plahover0alternative1_a\" style=\"display:none;border:none;margin:0;vertical-align:middle\" width=\"152\"/></div>, <div class=\"Gor6zc JtzP6 oYsXbb invisible\" style=\"display:inline-block;text-align:center;height:204px;width:152px\"><span class=\"h1vhpc\"></span><img alt='Sony - 43\" Class X80J Series LED 4K UHD Smart Google TV' height=\"152\" id=\"plahover0alternative2\" style=\"border:none;margin:0;vertical-align:middle\" width=\"152\"/><img alt='Sony - 43\" Class X80J Series LED 4K UHD Smart Google TV' data-src=\"https://encrypted-tbn0.gstatic.com/shopping?q=tbn:ANd9GcT5nEzpEs7NPMAl_UqaUTjm0SFiIPES0W24U9hSbtLBEsJFs42bMA8L_Si-p6L-Phvgp1uurrw&amp;usqp=CAc\" height=\"152\" id=\"plahover0alternative2_a\" style=\"display:none;border:none;margin:0;vertical-align:middle\" width=\"152\"/></div>, <div class=\"Gor6zc JtzP6 oYsXbb invisible\" style=\"display:inline-block;text-align:center;height:204px;width:152px\"><span class=\"h1vhpc\"></span><img alt='Sony - 43\" Class X80J Series LED 4K UHD Smart Google TV' height=\"204\" id=\"plahover0alternative3\" style=\"border:none;margin:0;vertical-align:middle\" width=\"152\"/><img alt='Sony - 43\" Class X80J Series LED 4K UHD Smart Google TV' data-src=\"https://encrypted-tbn2.gstatic.com/shopping?q=tbn:ANd9GcQQTdzYZw_us1Q0yR5Du_kmAFLJTVA_wzq7kN0z58BrYHkF16LbJiqZXS5I4eaDXGYLWzYLLQugoQ&amp;usqp=CAc\" height=\"204\" id=\"plahover0alternative3_a\" style=\"display:none;border:none;margin:0;vertical-align:middle\" width=\"152\"/></div>, <div class=\"Gor6zc\" style=\"display:inline-block;text-align:center;height:231px;width:170px\"><span class=\"h1vhpc\"></span><img alt=\"Image of Sony Kd50x80j 50 inch X80j 4K Ultra HD LED Smart TV (2021 Model) Bundle with Deco Home 60W 2.0 Channel Soundbar w/subwoofer + Wall Mount Kit + \" data-deferred=\"1\" height=\"170\" id=\"platop1\" src=\"data:image/gif;base64,R0lGODlhAQABAIAAAP///////yH5BAEKAAEALAAAAAABAAEAAAICTAEAOw==\" style=\"border:none;margin:0;vertical-align:middle;border-radius:0%\" width=\"170\"/></div>, <div class=\"Gor6zc JtzP6\" style=\"display:inline-block;text-align:center;height:260px;width:194px\"><span class=\"h1vhpc\"></span><img alt=\"Sony Kd50x80j 50 inch X80j 4K Ultra HD LED Smart TV (2021 Model) Bundle with Deco Home 60W 2.0 Channel Soundbar w/subwoofer + Wall Mount Kit + \" height=\"194\" id=\"plahover1\" style=\"border:none;margin:0;vertical-align:middle\" width=\"194\"/><img alt=\"Sony Kd50x80j 50 inch X80j 4K Ultra HD LED Smart TV (2021 Model) Bundle with Deco Home 60W 2.0 Channel Soundbar w/subwoofer + Wall Mount Kit + \" data-src=\"https://encrypted-tbn3.gstatic.com/shopping?q=tbn:ANd9GcTdH4oDEwZLovU53PxuUkaCmdhtgVOR3sslGcb59XjUi926xxaX9etZFUe-ShTF&amp;usqp=CAc\" height=\"194\" id=\"plahover1_a\" style=\"display:none;border:none;margin:0;vertical-align:middle\" width=\"194\"/></div>, <div class=\"Gor6zc\" style=\"display:inline-block;text-align:center;height:223px;width:162px\"><span class=\"h1vhpc\"></span><img alt=\"Image of Sony XR-65A80J 65&quot; OLED BRAVIA XR 4K Ultra HD Smart TV with a Walts TV Large/Extra Large Tilt Mount for 43&quot;-90&quot; Compatible TV's and a Walts HDTV\" data-deferred=\"1\" height=\"138\" id=\"platop2\" src=\"data:image/gif;base64,R0lGODlhAQABAIAAAP///////yH5BAEKAAEALAAAAAABAAEAAAICTAEAOw==\" style=\"border:none;margin:0;vertical-align:middle;border-radius:0%\" width=\"162\"/></div>, <div class=\"Gor6zc\" style=\"display:inline-block;text-align:center;height:256px;width:186px\"><span class=\"h1vhpc\"></span><img alt=\"Sony XR-65A80J 65&quot; OLED BRAVIA XR 4K Ultra HD Smart TV with a Walts TV Large/Extra Large Tilt Mount for 43&quot;-90&quot; Compatible TV's and a Walts HDTV\" height=\"158\" id=\"plahover2\" style=\"border:none;margin:0;vertical-align:middle\" width=\"186\"/><img alt=\"Sony XR-65A80J 65&quot; OLED BRAVIA XR 4K Ultra HD Smart TV with a Walts TV Large/Extra Large Tilt Mount for 43&quot;-90&quot; Compatible TV's and a Walts HDTV\" data-src=\"https://encrypted-tbn0.gstatic.com/shopping?q=tbn:ANd9GcStY5-krdeLLJWe4CiKyj25uwhqXuh-E0ggzkKEUHxAvcoyYz1w_YTb2hadtt_B_GdCDfRDxkeGUQ&amp;usqp=CAc\" height=\"158\" id=\"plahover2_a\" style=\"display:none;border:none;margin:0;vertical-align:middle\" width=\"186\"/></div>, <div class=\"Gor6zc\" style=\"display:inline-block;text-align:center;height:223px;width:162px\"><span class=\"h1vhpc\"></span><img alt='Image of Sony XR65X90J 65\" X90J 4K Ultra HD Full Array LED Smart TV (2021 Model)' data-deferred=\"1\" height=\"162\" id=\"platop3\" src=\"data:image/gif;base64,R0lGODlhAQABAIAAAP///////yH5BAEKAAEALAAAAAABAAEAAAICTAEAOw==\" style=\"border:none;margin:0;vertical-align:middle;border-radius:0%\" width=\"162\"/></div>, <div class=\"Gor6zc\" style=\"display:inline-block;text-align:center;height:256px;width:186px\"><span class=\"h1vhpc\"></span><img alt='Sony XR65X90J 65\" X90J 4K Ultra HD Full Array LED Smart TV (2021 Model)' height=\"186\" id=\"plahover3\" style=\"border:none;margin:0;vertical-align:middle\" width=\"186\"/><img alt='Sony XR65X90J 65\" X90J 4K Ultra HD Full Array LED Smart TV (2021 Model)' data-src=\"https://encrypted-tbn3.gstatic.com/shopping?q=tbn:ANd9GcRui1dirMILi9y8psAxm0nGj9cBIb6ViGeH_m8UXu6vxec72J-2G53kOUEKMJLX&amp;usqp=CAc\" height=\"186\" id=\"plahover3_a\" style=\"display:none;border:none;margin:0;vertical-align:middle\" width=\"186\"/></div>, <div class=\"Gor6zc\" style=\"display:inline-block;text-align:center;height:223px;width:162px\"><span class=\"h1vhpc\"></span><img alt='Image of Sony - 65\" Class BRAVIA XR X90J Series LED 4K UHD Smart Google TV' data-deferred=\"1\" height=\"104\" id=\"platop4\" src=\"data:image/gif;base64,R0lGODlhAQABAIAAAP///////yH5BAEKAAEALAAAAAABAAEAAAICTAEAOw==\" style=\"border:none;margin:0;vertical-align:middle;border-radius:0%\" width=\"162\"/></div>, <div class=\"Gor6zc\" style=\"display:inline-block;text-align:center;height:256px;width:186px\"><span class=\"h1vhpc\"></span><img alt='Sony - 65\" Class BRAVIA XR X90J Series LED 4K UHD Smart Google TV' class=\"Deyomb\" height=\"119\" id=\"plahover4\" style=\"border:none;margin:0;vertical-align:middle\" width=\"186\"/><img alt='Sony - 65\" Class BRAVIA XR X90J Series LED 4K UHD Smart Google TV' data-src=\"https://encrypted-tbn1.gstatic.com/shopping?q=tbn:ANd9GcRr-FfOb2IO0VUl4fL7CK_z0mZ5yRU4RIf1XKq2y7JzjaFA2fhlohcrHEjztlA&amp;usqp=CAc\" height=\"119\" id=\"plahover4_a\" style=\"display:none;border:none;margin:0;vertical-align:middle\" width=\"186\"/></div>, <div class=\"Gor6zc JtzP6 oYsXbb invisible\" style=\"display:inline-block;text-align:center;height:204px;width:152px\"><span class=\"h1vhpc\"></span><img alt='Sony - 65\" Class BRAVIA XR X90J Series LED 4K UHD Smart Google TV' height=\"204\" id=\"plahover4alternative0\" style=\"border:none;margin:0;vertical-align:middle\" width=\"152\"/><img alt='Sony - 65\" Class BRAVIA XR X90J Series LED 4K UHD Smart Google TV' data-src=\"https://encrypted-tbn3.gstatic.com/shopping?q=tbn:ANd9GcQJySgn39_Inof6KAAy_Uhy_JVfWNFyS1G_SKjUB8_qVXxIQGVEN85ufrSTJqFF1uqvTwmAbtuf2_Q&amp;usqp=CAc\" height=\"204\" id=\"plahover4alternative0_a\" style=\"display:none;border:none;margin:0;vertical-align:middle\" width=\"152\"/></div>, <div class=\"Gor6zc JtzP6 oYsXbb invisible\" style=\"display:inline-block;text-align:center;height:204px;width:152px\"><span class=\"h1vhpc\"></span><img alt='Sony - 65\" Class BRAVIA XR X90J Series LED 4K UHD Smart Google TV' height=\"151\" id=\"plahover4alternative1\" style=\"border:none;margin:0;vertical-align:middle\" width=\"152\"/><img alt='Sony - 65\" Class BRAVIA XR X90J Series LED 4K UHD Smart Google TV' data-src=\"https://encrypted-tbn0.gstatic.com/shopping?q=tbn:ANd9GcTKfAOcXS4JFlbLF8Ylv2kxC3rcRimXy-LlL-pxocMR74qNRsm-AxNUHTOqbCvZocDREdgVLFQE&amp;usqp=CAc\" height=\"151\" id=\"plahover4alternative1_a\" style=\"display:none;border:none;margin:0;vertical-align:middle\" width=\"152\"/></div>, <div class=\"Gor6zc JtzP6 oYsXbb invisible\" style=\"display:inline-block;text-align:center;height:204px;width:152px\"><span class=\"h1vhpc\"></span><img alt='Sony - 65\" Class BRAVIA XR X90J Series LED 4K UHD Smart Google TV' height=\"151\" id=\"plahover4alternative2\" style=\"border:none;margin:0;vertical-align:middle\" width=\"152\"/><img alt='Sony - 65\" Class BRAVIA XR X90J Series LED 4K UHD Smart Google TV' data-src=\"https://encrypted-tbn0.gstatic.com/shopping?q=tbn:ANd9GcSkCGCsm7PptEAxPqE2xH3wymi_7W2zWOwNffHIQ24vvK7ZC8MUPeTCXgoQR2ff6e9wUxk-zUS8&amp;usqp=CAc\" height=\"151\" id=\"plahover4alternative2_a\" style=\"display:none;border:none;margin:0;vertical-align:middle\" width=\"152\"/></div>, <div class=\"Gor6zc JtzP6 oYsXbb invisible\" style=\"display:inline-block;text-align:center;height:204px;width:152px\"><span class=\"h1vhpc\"></span><img alt='Sony - 65\" Class BRAVIA XR X90J Series LED 4K UHD Smart Google TV' height=\"204\" id=\"plahover4alternative3\" style=\"border:none;margin:0;vertical-align:middle\" width=\"152\"/><img alt='Sony - 65\" Class BRAVIA XR X90J Series LED 4K UHD Smart Google TV' data-src=\"https://encrypted-tbn1.gstatic.com/shopping?q=tbn:ANd9GcQ3J6ak22Z3--GDEC5swd0PwfyVgZ0i_Kde_c7dc1ihISeUXPQ193bZNBf9d7SK7zTngZUCJXF5&amp;usqp=CAc\" height=\"204\" id=\"plahover4alternative3_a\" style=\"display:none;border:none;margin:0;vertical-align:middle\" width=\"152\"/></div>, <div class=\"Gor6zc\" style=\"display:inline-block;text-align:center;height:223px;width:162px\"><span class=\"h1vhpc\"></span><img alt='Image of Sony - 55\" Class X80J Series LED 4K UHD Smart Google TV' data-deferred=\"1\" height=\"103\" id=\"platop5\" src=\"data:image/gif;base64,R0lGODlhAQABAIAAAP///////yH5BAEKAAEALAAAAAABAAEAAAICTAEAOw==\" style=\"border:none;margin:0;vertical-align:middle;border-radius:0%\" width=\"162\"/></div>, <div class=\"Gor6zc\" style=\"display:inline-block;text-align:center;height:256px;width:186px\"><span class=\"h1vhpc\"></span><img alt='Sony - 55\" Class X80J Series LED 4K UHD Smart Google TV' class=\"Deyomb\" height=\"118\" id=\"plahover5\" style=\"border:none;margin:0;vertical-align:middle\" width=\"186\"/><img alt='Sony - 55\" Class X80J Series LED 4K UHD Smart Google TV' data-src=\"https://encrypted-tbn2.gstatic.com/shopping?q=tbn:ANd9GcSBOKqUi7MBmGiY8vmS7PttvsPCtPuE0xm5v865n3tN7PSMyJx83_r-z2p0tw&amp;usqp=CAc\" height=\"118\" id=\"plahover5_a\" style=\"display:none;border:none;margin:0;vertical-align:middle\" width=\"186\"/></div>, <div class=\"Gor6zc JtzP6 oYsXbb invisible\" style=\"display:inline-block;text-align:center;height:204px;width:152px\"><span class=\"h1vhpc\"></span><img alt='Sony - 55\" Class X80J Series LED 4K UHD Smart Google TV' height=\"152\" id=\"plahover5alternative0\" style=\"border:none;margin:0;vertical-align:middle\" width=\"152\"/><img alt='Sony - 55\" Class X80J Series LED 4K UHD Smart Google TV' data-src=\"https://encrypted-tbn1.gstatic.com/shopping?q=tbn:ANd9GcSlNjSrH2E_QTcyGoqCLxlp5A8P4tyrIQ0ujCuHzeBpcmiLuoWcrbBohwNmodQNlwuefeEqs9I&amp;usqp=CAc\" height=\"152\" id=\"plahover5alternative0_a\" style=\"display:none;border:none;margin:0;vertical-align:middle\" width=\"152\"/></div>, <div class=\"Gor6zc JtzP6 oYsXbb invisible\" style=\"display:inline-block;text-align:center;height:204px;width:152px\"><span class=\"h1vhpc\"></span><img alt='Sony - 55\" Class X80J Series LED 4K UHD Smart Google TV' height=\"152\" id=\"plahover5alternative1\" style=\"border:none;margin:0;vertical-align:middle\" width=\"152\"/><img alt='Sony - 55\" Class X80J Series LED 4K UHD Smart Google TV' data-src=\"https://encrypted-tbn3.gstatic.com/shopping?q=tbn:ANd9GcRDb8fWDdSmjsuGKvFIyxogD7SPZXRJod_KtMDdq9H3D9_g2M36m69zNN3s6pg3Hd9FDGb1Rl75&amp;usqp=CAc\" height=\"152\" id=\"plahover5alternative1_a\" style=\"display:none;border:none;margin:0;vertical-align:middle\" width=\"152\"/></div>, <div class=\"Gor6zc JtzP6 oYsXbb invisible\" style=\"display:inline-block;text-align:center;height:204px;width:152px\"><span class=\"h1vhpc\"></span><img alt='Sony - 55\" Class X80J Series LED 4K UHD Smart Google TV' height=\"152\" id=\"plahover5alternative2\" style=\"border:none;margin:0;vertical-align:middle\" width=\"152\"/><img alt='Sony - 55\" Class X80J Series LED 4K UHD Smart Google TV' data-src=\"https://encrypted-tbn0.gstatic.com/shopping?q=tbn:ANd9GcSrLovscLDgNnJZWU_U8WIT3dBFzm_e55mstHmWgfGPX4tRk2yY_Z3ZHUj0SORlJA_TXd27vpo&amp;usqp=CAc\" height=\"152\" id=\"plahover5alternative2_a\" style=\"display:none;border:none;margin:0;vertical-align:middle\" width=\"152\"/></div>, <div class=\"Gor6zc JtzP6 oYsXbb invisible\" style=\"display:inline-block;text-align:center;height:204px;width:152px\"><span class=\"h1vhpc\"></span><img alt='Sony - 55\" Class X80J Series LED 4K UHD Smart Google TV' height=\"152\" id=\"plahover5alternative3\" style=\"border:none;margin:0;vertical-align:middle\" width=\"152\"/><img alt='Sony - 55\" Class X80J Series LED 4K UHD Smart Google TV' data-src=\"https://encrypted-tbn1.gstatic.com/shopping?q=tbn:ANd9GcS3PD3Trf-cwI7i3wLncV49Fd5kkBhPLsaDRFYa7MGJyCA2w-CJalvnrjj3hPLKFh5aKtjQU2iK&amp;usqp=CAc\" height=\"152\" id=\"plahover5alternative3_a\" style=\"display:none;border:none;margin:0;vertical-align:middle\" width=\"152\"/></div>, <div class=\"Gor6zc\" style=\"display:inline-block;text-align:center;height:223px;width:162px\"><span class=\"h1vhpc\"></span><img alt='Image of Sony - 75\" Class X750H Series LED 4K UHD Android TV' data-deferred=\"1\" height=\"102\" id=\"platop6\" src=\"data:image/gif;base64,R0lGODlhAQABAIAAAP///////yH5BAEKAAEALAAAAAABAAEAAAICTAEAOw==\" style=\"border:none;margin:0;vertical-align:middle;border-radius:0%\" width=\"162\"/></div>, <div class=\"Gor6zc\" style=\"display:inline-block;text-align:center;height:256px;width:186px\"><span class=\"h1vhpc\"></span><img alt='Sony - 75\" Class X750H Series LED 4K UHD Android TV' class=\"Deyomb\" height=\"117\" id=\"plahover6\" style=\"border:none;margin:0;vertical-align:middle\" width=\"186\"/><img alt='Sony - 75\" Class X750H Series LED 4K UHD Android TV' data-src=\"https://encrypted-tbn3.gstatic.com/shopping?q=tbn:ANd9GcTN2IoRtIr7bWe_aOduPuADNJSBYwAQYiYDlHpjVNl4IyOvspCsE2EU2EiBUA&amp;usqp=CAc\" height=\"117\" id=\"plahover6_a\" style=\"display:none;border:none;margin:0;vertical-align:middle\" width=\"186\"/></div>, <div class=\"Gor6zc JtzP6 oYsXbb invisible\" style=\"display:inline-block;text-align:center;height:204px;width:152px\"><span class=\"h1vhpc\"></span><img alt='Sony - 75\" Class X750H Series LED 4K UHD Android TV' height=\"204\" id=\"plahover6alternative0\" style=\"border:none;margin:0;vertical-align:middle\" width=\"152\"/><img alt='Sony - 75\" Class X750H Series LED 4K UHD Android TV' data-src=\"https://encrypted-tbn1.gstatic.com/shopping?q=tbn:ANd9GcTUVDxOnETzYW3ebjrMZeyzGvJ1X3tmCH1zM2PLaNMtSuPy74_EGzYbiTqmcTf5z1ftym3rZL_24Q&amp;usqp=CAc\" height=\"204\" id=\"plahover6alternative0_a\" style=\"display:none;border:none;margin:0;vertical-align:middle\" width=\"152\"/></div>, <div class=\"Gor6zc JtzP6 oYsXbb invisible\" style=\"display:inline-block;text-align:center;height:204px;width:152px\"><span class=\"h1vhpc\"></span><img alt='Sony - 75\" Class X750H Series LED 4K UHD Android TV' height=\"152\" id=\"plahover6alternative1\" style=\"border:none;margin:0;vertical-align:middle\" width=\"152\"/><img alt='Sony - 75\" Class X750H Series LED 4K UHD Android TV' data-src=\"https://encrypted-tbn0.gstatic.com/shopping?q=tbn:ANd9GcSXnpoiFT0k1hOk-rW6bsj3ppEF7CZiFRtY9QjANNMeq-2BXQ70aE6zl3cIDKuoZ8LpDNVa_6UE&amp;usqp=CAc\" height=\"152\" id=\"plahover6alternative1_a\" style=\"display:none;border:none;margin:0;vertical-align:middle\" width=\"152\"/></div>, <div class=\"Gor6zc JtzP6 oYsXbb invisible\" style=\"display:inline-block;text-align:center;height:204px;width:152px\"><span class=\"h1vhpc\"></span><img alt='Sony - 75\" Class X750H Series LED 4K UHD Android TV' height=\"152\" id=\"plahover6alternative2\" style=\"border:none;margin:0;vertical-align:middle\" width=\"152\"/><img alt='Sony - 75\" Class X750H Series LED 4K UHD Android TV' data-src=\"https://encrypted-tbn3.gstatic.com/shopping?q=tbn:ANd9GcQlNIP0OlKH--mwEXpDO8xrjV9ukN9i0Ivmas84nm73K1_AI8-JPcxD5aJxvoKSYm0_3daaiLM&amp;usqp=CAc\" height=\"152\" id=\"plahover6alternative2_a\" style=\"display:none;border:none;margin:0;vertical-align:middle\" width=\"152\"/></div>, <div class=\"Gor6zc JtzP6 oYsXbb invisible\" style=\"display:inline-block;text-align:center;height:204px;width:152px\"><span class=\"h1vhpc\"></span><img alt='Sony - 75\" Class X750H Series LED 4K UHD Android TV' height=\"152\" id=\"plahover6alternative3\" style=\"border:none;margin:0;vertical-align:middle\" width=\"152\"/><img alt='Sony - 75\" Class X750H Series LED 4K UHD Android TV' data-src=\"https://encrypted-tbn2.gstatic.com/shopping?q=tbn:ANd9GcT9awvTN2igldeiaXRr-FE3E83Z9-Z1T3Jwg4IVJLSP227_G9Th-CEx4QBiKsDRav8lJVmk_2_E&amp;usqp=CAc\" height=\"152\" id=\"plahover6alternative3_a\" style=\"display:none;border:none;margin:0;vertical-align:middle\" width=\"152\"/></div>, <div class=\"Gor6zc\" style=\"display:inline-block;text-align:center;height:231px;width:170px\"><span class=\"h1vhpc\"></span><img alt='Image of Sony - 85\" class BRAVIA XR Z9J LED 8K UHD Smart Google TV' data-deferred=\"1\" height=\"97\" id=\"platop7\" src=\"data:image/gif;base64,R0lGODlhAQABAIAAAP///////yH5BAEKAAEALAAAAAABAAEAAAICTAEAOw==\" style=\"border:none;margin:0;vertical-align:middle;border-radius:0%\" width=\"170\"/></div>, <div class=\"Gor6zc JtzP6\" style=\"display:inline-block;text-align:center;height:260px;width:194px\"><span class=\"h1vhpc\"></span><img alt='Sony - 85\" class BRAVIA XR Z9J LED 8K UHD Smart Google TV' class=\"Deyomb\" height=\"110\" id=\"plahover7\" style=\"border:none;margin:0;vertical-align:middle\" width=\"194\"/><img alt='Sony - 85\" class BRAVIA XR Z9J LED 8K UHD Smart Google TV' data-src=\"https://encrypted-tbn0.gstatic.com/shopping?q=tbn:ANd9GcRpA4OlobC6SazEJ4uup2DPFRRAvh0Wk-pEna_1u4T11aJSB1dQvXldCWwYP40&amp;usqp=CAc\" height=\"110\" id=\"plahover7_a\" style=\"display:none;border:none;margin:0;vertical-align:middle\" width=\"194\"/></div>, <div class=\"Gor6zc JtzP6 oYsXbb invisible\" style=\"display:inline-block;text-align:center;height:204px;width:152px\"><span class=\"h1vhpc\"></span><img alt='Sony - 85\" class BRAVIA XR Z9J LED 8K UHD Smart Google TV' height=\"152\" id=\"plahover7alternative0\" style=\"border:none;margin:0;vertical-align:middle\" width=\"152\"/><img alt='Sony - 85\" class BRAVIA XR Z9J LED 8K UHD Smart Google TV' data-src=\"https://encrypted-tbn0.gstatic.com/shopping?q=tbn:ANd9GcRImeCtXFi0mcpHPxO89V11K-JDshoEZ39N7qpOLgmzYLebUZFy9njXAaDX83cE-KO-uCz-mo_6&amp;usqp=CAc\" height=\"152\" id=\"plahover7alternative0_a\" style=\"display:none;border:none;margin:0;vertical-align:middle\" width=\"152\"/></div>, <div class=\"Gor6zc JtzP6 oYsXbb invisible\" style=\"display:inline-block;text-align:center;height:204px;width:152px\"><span class=\"h1vhpc\"></span><img alt='Sony - 85\" class BRAVIA XR Z9J LED 8K UHD Smart Google TV' height=\"152\" id=\"plahover7alternative1\" style=\"border:none;margin:0;vertical-align:middle\" width=\"152\"/><img alt='Sony - 85\" class BRAVIA XR Z9J LED 8K UHD Smart Google TV' data-src=\"https://encrypted-tbn1.gstatic.com/shopping?q=tbn:ANd9GcTuCxPWN93v7QrPl5E7j0PKJuZNlNEAUzXofQcxPjcqXcYFlZuK6HWw9gpyzrifPtj4gTGYrmA6&amp;usqp=CAc\" height=\"152\" id=\"plahover7alternative1_a\" style=\"display:none;border:none;margin:0;vertical-align:middle\" width=\"152\"/></div>, <div class=\"Gor6zc JtzP6 oYsXbb invisible\" style=\"display:inline-block;text-align:center;height:204px;width:152px\"><span class=\"h1vhpc\"></span><img alt='Sony - 85\" class BRAVIA XR Z9J LED 8K UHD Smart Google TV' height=\"152\" id=\"plahover7alternative2\" style=\"border:none;margin:0;vertical-align:middle\" width=\"152\"/><img alt='Sony - 85\" class BRAVIA XR Z9J LED 8K UHD Smart Google TV' data-src=\"https://encrypted-tbn0.gstatic.com/shopping?q=tbn:ANd9GcR6YIkrlPakk6AQmz67D0h78SiBV0R7EfpT4aUr3p0vtXwXECPsBgzuNfCGPR9i1lbD7vPHc4k&amp;usqp=CAc\" height=\"152\" id=\"plahover7alternative2_a\" style=\"display:none;border:none;margin:0;vertical-align:middle\" width=\"152\"/></div>, <div class=\"Gor6zc JtzP6 oYsXbb invisible\" style=\"display:inline-block;text-align:center;height:204px;width:152px\"><span class=\"h1vhpc\"></span><img alt='Sony - 85\" class BRAVIA XR Z9J LED 8K UHD Smart Google TV' height=\"152\" id=\"plahover7alternative3\" style=\"border:none;margin:0;vertical-align:middle\" width=\"152\"/><img alt='Sony - 85\" class BRAVIA XR Z9J LED 8K UHD Smart Google TV' data-src=\"https://encrypted-tbn3.gstatic.com/shopping?q=tbn:ANd9GcRCZaEV5kJrUUg1KiU7NTkaB87zuLWU1JAbBMA-nK0CxAU3qp7qcGuEwQIJq-EQKnMyCogiPjs&amp;usqp=CAc\" height=\"152\" id=\"plahover7alternative3_a\" style=\"display:none;border:none;margin:0;vertical-align:middle\" width=\"152\"/></div>, <div class=\"Gor6zc\" style=\"display:inline-block;text-align:center;height:223px;width:162px\"><span class=\"h1vhpc\"></span><img alt=\"Image of Sony Kd55x80j 55 inch 4K High Dynamic Range Smart TV with a Sony Ubp-x800m2 4K Ultra High Definition HDR Blu-Ray Disc Player (2021), Size: 17.0, Black\" data-deferred=\"1\" height=\"197\" id=\"platop8\" src=\"data:image/gif;base64,R0lGODlhAQABAIAAAP///////yH5BAEKAAEALAAAAAABAAEAAAICTAEAOw==\" style=\"border:none;margin:0;vertical-align:middle;border-radius:0%\" width=\"162\"/></div>, <div class=\"Gor6zc\" style=\"display:inline-block;text-align:center;height:256px;width:186px\"><span class=\"h1vhpc\"></span><img alt=\"Sony Kd55x80j 55 inch 4K High Dynamic Range Smart TV with a Sony Ubp-x800m2 4K Ultra High Definition HDR Blu-Ray Disc Player (2021), Size: 17.0, Black\" height=\"226\" id=\"plahover8\" style=\"border:none;margin:0;vertical-align:middle\" width=\"186\"/><img alt=\"Sony Kd55x80j 55 inch 4K High Dynamic Range Smart TV with a Sony Ubp-x800m2 4K Ultra High Definition HDR Blu-Ray Disc Player (2021), Size: 17.0, Black\" data-src=\"https://encrypted-tbn3.gstatic.com/shopping?q=tbn:ANd9GcRQez9Xz_cZ8ssCtR2zi4gz6Nb-T2jEpIElKsyTL_WLkmZXDwbKjw9g7GcVrgx7YFyUfdCyyHd3QQ&amp;usqp=CAc\" height=\"226\" id=\"plahover8_a\" style=\"display:none;border:none;margin:0;vertical-align:middle\" width=\"186\"/></div>, <div class=\"Gor6zc\" style=\"display:inline-block;text-align:center;height:223px;width:162px\"><span class=\"h1vhpc\"></span><img alt='Image of Sony - 85\" Class X85J Series LED 4K UHD Smart Google TV' data-deferred=\"1\" height=\"103\" id=\"platop9\" src=\"data:image/gif;base64,R0lGODlhAQABAIAAAP///////yH5BAEKAAEALAAAAAABAAEAAAICTAEAOw==\" style=\"border:none;margin:0;vertical-align:middle;border-radius:0%\" width=\"162\"/></div>, <div class=\"Gor6zc\" style=\"display:inline-block;text-align:center;height:256px;width:186px\"><span class=\"h1vhpc\"></span><img alt='Sony - 85\" Class X85J Series LED 4K UHD Smart Google TV' class=\"Deyomb\" height=\"118\" id=\"plahover9\" style=\"border:none;margin:0;vertical-align:middle\" width=\"186\"/><img alt='Sony - 85\" Class X85J Series LED 4K UHD Smart Google TV' data-src=\"https://encrypted-tbn1.gstatic.com/shopping?q=tbn:ANd9GcT-zzxIvXyzCmCg0p4-PT2KuFIc0HoBr8vSPE8Xwn10Y-nj1Y2w6-jG7W-C3Q&amp;usqp=CAc\" height=\"118\" id=\"plahover9_a\" style=\"display:none;border:none;margin:0;vertical-align:middle\" width=\"186\"/></div>, <div class=\"Gor6zc JtzP6 oYsXbb invisible\" style=\"display:inline-block;text-align:center;height:204px;width:152px\"><span class=\"h1vhpc\"></span><img alt='Sony - 85\" Class X85J Series LED 4K UHD Smart Google TV' height=\"152\" id=\"plahover9alternative0\" style=\"border:none;margin:0;vertical-align:middle\" width=\"152\"/><img alt='Sony - 85\" Class X85J Series LED 4K UHD Smart Google TV' data-src=\"https://encrypted-tbn1.gstatic.com/shopping?q=tbn:ANd9GcToqWe8Jq0Ljrm9vfcALx97vhmwZsKaMNJncHYGQfvYiUxU95H0kMxbcjBsn4P3Bf7sxoXXseY&amp;usqp=CAc\" height=\"152\" id=\"plahover9alternative0_a\" style=\"display:none;border:none;margin:0;vertical-align:middle\" width=\"152\"/></div>, <div class=\"Gor6zc JtzP6 oYsXbb invisible\" style=\"display:inline-block;text-align:center;height:204px;width:152px\"><span class=\"h1vhpc\"></span><img alt='Sony - 85\" Class X85J Series LED 4K UHD Smart Google TV' height=\"152\" id=\"plahover9alternative1\" style=\"border:none;margin:0;vertical-align:middle\" width=\"152\"/><img alt='Sony - 85\" Class X85J Series LED 4K UHD Smart Google TV' data-src=\"https://encrypted-tbn1.gstatic.com/shopping?q=tbn:ANd9GcTAzPcHC9_i-l6L9YZUZO5enDGeZDGI37ZhryAm3SLEn18jqbrCHGPdl_sEOQNGoE6wJlE8C1So&amp;usqp=CAc\" height=\"152\" id=\"plahover9alternative1_a\" style=\"display:none;border:none;margin:0;vertical-align:middle\" width=\"152\"/></div>, <div class=\"Gor6zc JtzP6 oYsXbb invisible\" style=\"display:inline-block;text-align:center;height:204px;width:152px\"><span class=\"h1vhpc\"></span><img alt='Sony - 85\" Class X85J Series LED 4K UHD Smart Google TV' height=\"152\" id=\"plahover9alternative2\" style=\"border:none;margin:0;vertical-align:middle\" width=\"152\"/><img alt='Sony - 85\" Class X85J Series LED 4K UHD Smart Google TV' data-src=\"https://encrypted-tbn0.gstatic.com/shopping?q=tbn:ANd9GcRKWtU4J1ylyu50HstcdtLTZNz9KvZBZ2pVnl3CrrOXdku0pux5poZYRZR2mPmtHPTMZZnF6x4l&amp;usqp=CAc\" height=\"152\" id=\"plahover9alternative2_a\" style=\"display:none;border:none;margin:0;vertical-align:middle\" width=\"152\"/></div>, <div class=\"Gor6zc JtzP6 oYsXbb invisible\" style=\"display:inline-block;text-align:center;height:204px;width:152px\"><span class=\"h1vhpc\"></span><img alt='Sony - 85\" Class X85J Series LED 4K UHD Smart Google TV' height=\"152\" id=\"plahover9alternative3\" style=\"border:none;margin:0;vertical-align:middle\" width=\"152\"/><img alt='Sony - 85\" Class X85J Series LED 4K UHD Smart Google TV' data-src=\"https://encrypted-tbn2.gstatic.com/shopping?q=tbn:ANd9GcS7kFFeoKKfo_-GRracUPeex2iw8cFXP2HXCGn-R58T6d-ndz0qCH-dhhzTP-zMpYFT8CPCW5E&amp;usqp=CAc\" height=\"152\" id=\"plahover9alternative3_a\" style=\"display:none;border:none;margin:0;vertical-align:middle\" width=\"152\"/></div>, <div class=\"Gor6zc\" style=\"display:inline-block;text-align:center;height:223px;width:162px\"><span class=\"h1vhpc\"></span><img alt=\"Image of Sony Xr55a90j 55 inch A90j Series HD Oled 4K Smart TV with a Walts TV Large/Extra Large Tilt Mount for 43 inch-90 inch Compatible TV's and Walts Hdtv \" data-deferred=\"1\" height=\"223\" id=\"platop10\" src=\"data:image/gif;base64,R0lGODlhAQABAIAAAP///////yH5BAEKAAEALAAAAAABAAEAAAICTAEAOw==\" style=\"border:none;margin:0;vertical-align:middle;border-radius:0%\" width=\"162\"/></div>, <div class=\"Gor6zc\" style=\"display:inline-block;text-align:center;height:256px;width:186px\"><span class=\"h1vhpc\"></span><img alt=\"Sony Xr55a90j 55 inch A90j Series HD Oled 4K Smart TV with a Walts TV Large/Extra Large Tilt Mount for 43 inch-90 inch Compatible TV's and Walts Hdtv \" height=\"256\" id=\"plahover10\" style=\"border:none;margin:0;vertical-align:middle\" width=\"186\"/><img alt=\"Sony Xr55a90j 55 inch A90j Series HD Oled 4K Smart TV with a Walts TV Large/Extra Large Tilt Mount for 43 inch-90 inch Compatible TV's and Walts Hdtv \" data-src=\"https://encrypted-tbn0.gstatic.com/shopping?q=tbn:ANd9GcSsPIgZOiDhRlSp5ntIYCsQiwWx4XgPxaxq-L3zWDR_jptdbtbjIhMWACz7ybaqNJq8hPwnY4J47Q&amp;usqp=CAc\" height=\"256\" id=\"plahover10_a\" style=\"display:none;border:none;margin:0;vertical-align:middle\" width=\"186\"/></div>, <div class=\"Gor6zc\" style=\"display:inline-block;text-align:center;height:223px;width:162px\"><span class=\"h1vhpc\"></span><img alt='Image of Sony - 85\" Class X800H Series LED 4K UHD Smart Android TV' data-deferred=\"1\" height=\"103\" id=\"platop11\" src=\"data:image/gif;base64,R0lGODlhAQABAIAAAP///////yH5BAEKAAEALAAAAAABAAEAAAICTAEAOw==\" style=\"border:none;margin:0;vertical-align:middle;border-radius:0%\" width=\"162\"/></div>, <div class=\"Gor6zc\" style=\"display:inline-block;text-align:center;height:256px;width:186px\"><span class=\"h1vhpc\"></span><img alt='Sony - 85\" Class X800H Series LED 4K UHD Smart Android TV' class=\"Deyomb\" height=\"117\" id=\"plahover11\" style=\"border:none;margin:0;vertical-align:middle\" width=\"186\"/><img alt='Sony - 85\" Class X800H Series LED 4K UHD Smart Android TV' data-src=\"https://encrypted-tbn2.gstatic.com/shopping?q=tbn:ANd9GcSQTr41GeMfuX7ZOXQcmaEuoKh-hwvuh4I2bOYd0B9MrRM9DVISx-9viF5NRA&amp;usqp=CAc\" height=\"117\" id=\"plahover11_a\" style=\"display:none;border:none;margin:0;vertical-align:middle\" width=\"186\"/></div>, <div class=\"Gor6zc JtzP6 oYsXbb invisible\" style=\"display:inline-block;text-align:center;height:204px;width:152px\"><span class=\"h1vhpc\"></span><img alt='Sony - 85\" Class X800H Series LED 4K UHD Smart Android TV' height=\"152\" id=\"plahover11alternative0\" style=\"border:none;margin:0;vertical-align:middle\" width=\"152\"/><img alt='Sony - 85\" Class X800H Series LED 4K UHD Smart Android TV' data-src=\"https://encrypted-tbn3.gstatic.com/shopping?q=tbn:ANd9GcR2F37eOzfzjQHs2zzeLL1VADcngbB_5PsUN5w6Q2KFrQBUxi_2qn9Dp7v4Fj4th0MLyGyfNEXQ&amp;usqp=CAc\" height=\"152\" id=\"plahover11alternative0_a\" style=\"display:none;border:none;margin:0;vertical-align:middle\" width=\"152\"/></div>, <div class=\"Gor6zc JtzP6 oYsXbb invisible\" style=\"display:inline-block;text-align:center;height:204px;width:152px\"><span class=\"h1vhpc\"></span><img alt='Sony - 85\" Class X800H Series LED 4K UHD Smart Android TV' height=\"154\" id=\"plahover11alternative1\" style=\"border:none;margin:0;vertical-align:middle\" width=\"152\"/><img alt='Sony - 85\" Class X800H Series LED 4K UHD Smart Android TV' data-src=\"https://encrypted-tbn1.gstatic.com/shopping?q=tbn:ANd9GcSHZUcjKm3oMyFo4cC2SO8ntYO00TZ6EFvmvuflt7teVVLzwX8rDpPxU7bhPYwxCD_kg2M06ERn&amp;usqp=CAc\" height=\"154\" id=\"plahover11alternative1_a\" style=\"display:none;border:none;margin:0;vertical-align:middle\" width=\"152\"/></div>, <div class=\"Gor6zc JtzP6 oYsXbb invisible\" style=\"display:inline-block;text-align:center;height:204px;width:152px\"><span class=\"h1vhpc\"></span><img alt='Sony - 85\" Class X800H Series LED 4K UHD Smart Android TV' height=\"152\" id=\"plahover11alternative2\" style=\"border:none;margin:0;vertical-align:middle\" width=\"152\"/><img alt='Sony - 85\" Class X800H Series LED 4K UHD Smart Android TV' data-src=\"https://encrypted-tbn1.gstatic.com/shopping?q=tbn:ANd9GcQDTv4gmA9S8CUHQGA2NsQiQGGDx_QQzALi51UEZkwIHRAvX1YMO4XWCUz7yc_IriKyCMh5fdM&amp;usqp=CAc\" height=\"152\" id=\"plahover11alternative2_a\" style=\"display:none;border:none;margin:0;vertical-align:middle\" width=\"152\"/></div>, <div class=\"Gor6zc JtzP6 oYsXbb invisible\" style=\"display:inline-block;text-align:center;height:204px;width:152px\"><span class=\"h1vhpc\"></span><img alt='Sony - 85\" Class X800H Series LED 4K UHD Smart Android TV' height=\"152\" id=\"plahover11alternative3\" style=\"border:none;margin:0;vertical-align:middle\" width=\"152\"/><img alt='Sony - 85\" Class X800H Series LED 4K UHD Smart Android TV' data-src=\"https://encrypted-tbn3.gstatic.com/shopping?q=tbn:ANd9GcTXuaj2RoJko4I8zdFwr3wMeozSCrWZnYDu2yeHWoY1NmMg2L7Vg_YgHjnXpeU1fnGALmmexnos&amp;usqp=CAc\" height=\"152\" id=\"plahover11alternative3_a\" style=\"display:none;border:none;margin:0;vertical-align:middle\" width=\"152\"/></div>, <div class=\"Gor6zc\" style=\"display:inline-block;text-align:center;height:223px;width:162px\"><span class=\"h1vhpc\"></span><img alt=\"Image of Sony Xbr-65x950h 65 inch 4K Full Array LED Ultra High Defintion HDR Smart TV with a Walts TV Large/Extra Large Full Motion Mount for 43 inch-90 inch \" data-deferred=\"1\" height=\"173\" id=\"platop12\" src=\"data:image/gif;base64,R0lGODlhAQABAIAAAP///////yH5BAEKAAEALAAAAAABAAEAAAICTAEAOw==\" style=\"border:none;margin:0;vertical-align:middle;border-radius:0%\" width=\"162\"/></div>, <div class=\"Gor6zc\" style=\"display:inline-block;text-align:center;height:256px;width:186px\"><span class=\"h1vhpc\"></span><img alt=\"Sony Xbr-65x950h 65 inch 4K Full Array LED Ultra High Defintion HDR Smart TV with a Walts TV Large/Extra Large Full Motion Mount for 43 inch-90 inch \" height=\"198\" id=\"plahover12\" style=\"border:none;margin:0;vertical-align:middle\" width=\"186\"/><img alt=\"Sony Xbr-65x950h 65 inch 4K Full Array LED Ultra High Defintion HDR Smart TV with a Walts TV Large/Extra Large Full Motion Mount for 43 inch-90 inch \" data-src=\"https://encrypted-tbn3.gstatic.com/shopping?q=tbn:ANd9GcTy7oW_C4p2vHef9qJBnnj9QCYqqlsifNxzoW1UQuTgmmFDjiF4l-rsClKQNVWtqob8wGFkiIAdRSw&amp;usqp=CAc\" height=\"198\" id=\"plahover12_a\" style=\"display:none;border:none;margin:0;vertical-align:middle\" width=\"186\"/></div>]\n"
          ]
        }
      ]
    },
    {
      "cell_type": "markdown",
      "metadata": {
        "id": "nNFEdsc5BH8g"
      },
      "source": [
        "https://encrypted-tbn2.gstatic.com/shopping?q=tbn:ANd9GcR92Na_GzDfJgo3CD1JZKMTfGnMaj96co4a2arX81TRzdpxglshGVeZxlvD&amp;usqp=CAc"
      ]
    },
    {
      "cell_type": "markdown",
      "metadata": {
        "id": "ao5JlOwIHaft"
      },
      "source": [
        "Task 2"
      ]
    },
    {
      "cell_type": "code",
      "metadata": {
        "id": "H7JkppTACah_"
      },
      "source": [
        "import matplotlib.pyplot as plt\n",
        "import cv2\n",
        "import easyocr\n",
        "from pylab import rcParams\n",
        "from IPython.display import Image\n",
        "rcParams['figure.figsize'] = 1.73 , 1.36 \n"
      ],
      "execution_count": 4,
      "outputs": []
    },
    {
      "cell_type": "code",
      "metadata": {
        "colab": {
          "base_uri": "https://localhost:8080/"
        },
        "id": "OYiqI2s6H5yE",
        "outputId": "8510a3d3-e934-4297-909a-6c9b5f4543cf"
      },
      "source": [
        "reader = easyocr.Reader(['en'])"
      ],
      "execution_count": 5,
      "outputs": [
        {
          "output_type": "stream",
          "name": "stderr",
          "text": [
            "Downloading detection model, please wait. This may take several minutes depending upon your network connection.\n"
          ]
        },
        {
          "output_type": "stream",
          "name": "stdout",
          "text": [
            ""
          ]
        },
        {
          "output_type": "stream",
          "name": "stderr",
          "text": [
            "Downloading recognition model, please wait. This may take several minutes depending upon your network connection.\n"
          ]
        },
        {
          "output_type": "stream",
          "name": "stdout",
          "text": [
            ""
          ]
        }
      ]
    },
    {
      "cell_type": "code",
      "metadata": {
        "colab": {
          "base_uri": "https://localhost:8080/",
          "height": 148
        },
        "id": "I3ds-X5uLRj4",
        "outputId": "68277483-56d9-4ce6-f1bd-9ce39a3071f1"
      },
      "source": [
        "Image('shopping.jpg')"
      ],
      "execution_count": 6,
      "outputs": [
        {
          "output_type": "execute_result",
          "data": {
            "image/jpeg": "[encoded data removed]",
            "text/plain": [
              "<IPython.core.display.Image object>"
            ]
          },
          "metadata": {},
          "execution_count": 6
        }
      ]
    },
    {
      "cell_type": "code",
      "metadata": {
        "colab": {
          "base_uri": "https://localhost:8080/"
        },
        "id": "TupNCvHTLyvs",
        "outputId": "bde23e71-7982-4fd4-f191-e0d0cc5b3f15"
      },
      "source": [
        "output = reader.readtext('shopping.jpg')"
      ],
      "execution_count": 8,
      "outputs": [
        {
          "output_type": "stream",
          "name": "stderr",
          "text": [
            "/usr/local/lib/python3.7/dist-packages/torch/nn/functional.py:718: UserWarning: Named tensors and all their associated APIs are an experimental feature and subject to change. Please do not use them for anything important until they are released as stable. (Triggered internally at  /pytorch/c10/core/TensorImpl.h:1156.)\n",
            "  return torch.max_pool2d(input, kernel_size, stride, padding, dilation, ceil_mode)\n"
          ]
        }
      ]
    },
    {
      "cell_type": "code",
      "metadata": {
        "colab": {
          "base_uri": "https://localhost:8080/"
        },
        "id": "S18zRMqUHALQ",
        "outputId": "ebabbecf-9916-4468-8ca9-d06f0fe72100"
      },
      "source": [
        "output"
      ],
      "execution_count": 12,
      "outputs": [
        {
          "output_type": "execute_result",
          "data": {
            "text/plain": [
              "[([[117, 11], [159, 11], [159, 25], [117, 25]], 'SONY', 0.8584666848182678),\n",
              " ([[3, 89], [61, 89], [61, 103], [3, 103]], 'androidtv', 0.969884677951408)]"
            ]
          },
          "metadata": {},
          "execution_count": 12
        }
      ]
    }
  ]
}